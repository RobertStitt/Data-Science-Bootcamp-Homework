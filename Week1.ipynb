{
  "metadata": {
    "kernelspec": {
      "name": "python",
      "display_name": "Python (Pyodide)",
      "language": "python"
    },
    "language_info": {
      "codemirror_mode": {
        "name": "python",
        "version": 3
      },
      "file_extension": ".py",
      "mimetype": "text/x-python",
      "name": "python",
      "nbconvert_exporter": "python",
      "pygments_lexer": "ipython3",
      "version": "3.8"
    }
  },
  "nbformat_minor": 5,
  "nbformat": 4,
  "cells": [
    {
      "id": "dfad0fcf-8a4d-4d1f-9120-2443bc6eeadc",
      "cell_type": "code",
      "source": "def count_vowels(text_string):\n    vowels = \"aeiou\"\n    count = 0\n\n    for character in text_string:\n        if character in vowels:\n            count += 1\n            \n    return count\n\ndef main():\n    user_input = input(\"Input: \")\n    count_vowels(user_input.lower())\n\nif __name__ == '__main__':\n    main()",
      "metadata": {
        "trusted": true
      },
      "outputs": [],
      "execution_count": null
    },
    {
      "id": "020329ac-254b-45af-aec9-3a4af0161764",
      "cell_type": "code",
      "source": "animals=['tiger', 'elephant', 'monkey', 'zebra', 'panther']\n\nfor animal in animals:\n    print(animal.upper())",
      "metadata": {
        "trusted": true
      },
      "outputs": [],
      "execution_count": null
    },
    {
      "id": "a34ad36a-f0d9-4ed5-a5c0-b6e0bfcdaf4e",
      "cell_type": "code",
      "source": "for number in range(1, 21):\n    if number % 2 == 0:\n        print(f\"{number} is even.\")\n    else:\n        print(f\"{number} is odd.\")",
      "metadata": {
        "trusted": true
      },
      "outputs": [],
      "execution_count": null
    },
    {
      "id": "34fe96e7-4bb0-469f-87e4-d74b0309de02",
      "cell_type": "code",
      "source": "def is_palindrone(text):\n    reverse_string = ''.join(reversed(text))\n\n    if text == reverse_string:\n        print(\"It is a palindrone.\")\n    else:\n        print(\"Not a palindrone\")\n\nuser_input = input(\"Text: \")\nis_palindrone(user_input)",
      "metadata": {
        "trusted": true
      },
      "outputs": [],
      "execution_count": null
    },
    {
      "id": "6fe29d96-4947-45d2-884a-ad7e2f1426a0",
      "cell_type": "code",
      "source": "def sum_of_integers(a, b):\n    print(a + b)\n    return a + b\n\nuser_input1 = input(\"First number input: \")\nuser_input2 = input(\"Second number input: \")\n\nif (isinstance(user_input1, int) and isinstance(user_input2, int)):\n    sum_of_integers(int(user_input1), int(user_input2))\nelse:\n    print(\"Please enter numbers.\")",
      "metadata": {
        "trusted": true
      },
      "outputs": [],
      "execution_count": null
    }
  ]
}